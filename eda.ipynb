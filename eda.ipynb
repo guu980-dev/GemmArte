{
 "cells": [
  {
   "cell_type": "code",
   "execution_count": 1,
   "metadata": {},
   "outputs": [
    {
     "data": {
      "text/html": [
       "<div>\n",
       "<style scoped>\n",
       "    .dataframe tbody tr th:only-of-type {\n",
       "        vertical-align: middle;\n",
       "    }\n",
       "\n",
       "    .dataframe tbody tr th {\n",
       "        vertical-align: top;\n",
       "    }\n",
       "\n",
       "    .dataframe thead th {\n",
       "        text-align: right;\n",
       "    }\n",
       "</style>\n",
       "<table border=\"1\" class=\"dataframe\">\n",
       "  <thead>\n",
       "    <tr style=\"text-align: right;\">\n",
       "      <th></th>\n",
       "      <th>id</th>\n",
       "      <th>image</th>\n",
       "      <th>category</th>\n",
       "      <th>question</th>\n",
       "      <th>answer</th>\n",
       "      <th>origin_question</th>\n",
       "    </tr>\n",
       "  </thead>\n",
       "  <tbody>\n",
       "    <tr>\n",
       "      <th>0</th>\n",
       "      <td>identity_0</td>\n",
       "      <td>2505.png</td>\n",
       "      <td>General Visual Analysis</td>\n",
       "      <td>Create a detailed and cohesive analysis paragr...</td>\n",
       "      <td>The painting depicts a young shepherdess, her ...</td>\n",
       "      <td>Please construct a formal analysis paragraph o...</td>\n",
       "    </tr>\n",
       "    <tr>\n",
       "      <th>1</th>\n",
       "      <td>identity_1</td>\n",
       "      <td>13963.png</td>\n",
       "      <td>General Visual Analysis</td>\n",
       "      <td>Create a detailed and cohesive analysis paragr...</td>\n",
       "      <td>The artwork presents a captivating visual symp...</td>\n",
       "      <td>Please construct a formal analysis paragraph o...</td>\n",
       "    </tr>\n",
       "    <tr>\n",
       "      <th>2</th>\n",
       "      <td>identity_2</td>\n",
       "      <td>6686.png</td>\n",
       "      <td>General Visual Analysis</td>\n",
       "      <td>Create a detailed and cohesive analysis paragr...</td>\n",
       "      <td>The painting features a rich and vibrant color...</td>\n",
       "      <td>Please construct a formal analysis paragraph o...</td>\n",
       "    </tr>\n",
       "    <tr>\n",
       "      <th>3</th>\n",
       "      <td>identity_3</td>\n",
       "      <td>7617.png</td>\n",
       "      <td>General Visual Analysis</td>\n",
       "      <td>Create a detailed and cohesive analysis paragr...</td>\n",
       "      <td>This ethereal landscape depicts a vast expanse...</td>\n",
       "      <td>Produce a logically connected paragraph of for...</td>\n",
       "    </tr>\n",
       "    <tr>\n",
       "      <th>4</th>\n",
       "      <td>identity_4</td>\n",
       "      <td>3622.png</td>\n",
       "      <td>General Visual Analysis</td>\n",
       "      <td>Create a detailed and cohesive analysis paragr...</td>\n",
       "      <td>This Baroque masterpiece depicts the crucifixi...</td>\n",
       "      <td>Your task is to write a coherent paragraph of ...</td>\n",
       "    </tr>\n",
       "  </tbody>\n",
       "</table>\n",
       "</div>"
      ],
      "text/plain": [
       "           id      image                 category  \\\n",
       "0  identity_0   2505.png  General Visual Analysis   \n",
       "1  identity_1  13963.png  General Visual Analysis   \n",
       "2  identity_2   6686.png  General Visual Analysis   \n",
       "3  identity_3   7617.png  General Visual Analysis   \n",
       "4  identity_4   3622.png  General Visual Analysis   \n",
       "\n",
       "                                            question  \\\n",
       "0  Create a detailed and cohesive analysis paragr...   \n",
       "1  Create a detailed and cohesive analysis paragr...   \n",
       "2  Create a detailed and cohesive analysis paragr...   \n",
       "3  Create a detailed and cohesive analysis paragr...   \n",
       "4  Create a detailed and cohesive analysis paragr...   \n",
       "\n",
       "                                              answer  \\\n",
       "0  The painting depicts a young shepherdess, her ...   \n",
       "1  The artwork presents a captivating visual symp...   \n",
       "2  The painting features a rich and vibrant color...   \n",
       "3  This ethereal landscape depicts a vast expanse...   \n",
       "4  This Baroque masterpiece depicts the crucifixi...   \n",
       "\n",
       "                                     origin_question  \n",
       "0  Please construct a formal analysis paragraph o...  \n",
       "1  Please construct a formal analysis paragraph o...  \n",
       "2  Please construct a formal analysis paragraph o...  \n",
       "3  Produce a logically connected paragraph of for...  \n",
       "4  Your task is to write a coherent paragraph of ...  "
      ]
     },
     "execution_count": 1,
     "metadata": {},
     "output_type": "execute_result"
    }
   ],
   "source": [
    "import pandas as pd\n",
    "\n",
    "# read\n",
    "df = pd.read_parquet('dataset/train.parquet')\n",
    "\n",
    "# write\n",
    "# df.to_parquet('my_newfile.parquet')\n",
    "\n",
    "df.head()"
   ]
  },
  {
   "cell_type": "code",
   "execution_count": 2,
   "metadata": {},
   "outputs": [
    {
     "data": {
      "text/plain": [
       "id                 224850\n",
       "image               13812\n",
       "category               11\n",
       "question               11\n",
       "answer              44951\n",
       "origin_question       215\n",
       "dtype: int64"
      ]
     },
     "execution_count": 2,
     "metadata": {},
     "output_type": "execute_result"
    }
   ],
   "source": [
    "df.nunique()"
   ]
  },
  {
   "cell_type": "code",
   "execution_count": 4,
   "metadata": {},
   "outputs": [
    {
     "data": {
      "text/plain": [
       "array(['General Visual Analysis', 'Form and Shape',\n",
       "       'Symbolism and Iconography', 'Composition', 'Color Palette',\n",
       "       'Light and Shadow', 'Texture', 'Movement and Gesture',\n",
       "       'Line Quality', 'Perspective', 'Scale and Proportion'],\n",
       "      dtype=object)"
      ]
     },
     "execution_count": 4,
     "metadata": {},
     "output_type": "execute_result"
    }
   ],
   "source": [
    "df['category'].unique()"
   ]
  },
  {
   "cell_type": "code",
   "execution_count": 5,
   "metadata": {},
   "outputs": [
    {
     "data": {
      "text/plain": [
       "category\n",
       "General Visual Analysis      136690\n",
       "Composition                   21160\n",
       "Light and Shadow              18430\n",
       "Color Palette                 16850\n",
       "Form and Shape                13670\n",
       "Symbolism and Iconography      6065\n",
       "Texture                        5130\n",
       "Perspective                    3450\n",
       "Movement and Gesture           2125\n",
       "Line Quality                   1135\n",
       "Scale and Proportion            145\n",
       "Name: count, dtype: int64"
      ]
     },
     "execution_count": 5,
     "metadata": {},
     "output_type": "execute_result"
    }
   ],
   "source": [
    "df['category'].value_counts()"
   ]
  },
  {
   "cell_type": "code",
   "execution_count": 8,
   "metadata": {},
   "outputs": [
    {
     "data": {
      "text/plain": [
       "14    The composition of this painting is meticulous...\n",
       "27    The composition of this painting is striking i...\n",
       "39    The composition of this painting is highly str...\n",
       "53    The composition of the painting is carefully b...\n",
       "58    This artwork is composed using a high viewpoin...\n",
       "Name: answer, dtype: object"
      ]
     },
     "execution_count": 8,
     "metadata": {},
     "output_type": "execute_result"
    }
   ],
   "source": [
    "df_composition = df[df['category'] == 'Composition']\n",
    "df_composition.head()['answer']"
   ]
  },
  {
   "cell_type": "code",
   "execution_count": null,
   "metadata": {},
   "outputs": [],
   "source": []
  }
 ],
 "metadata": {
  "kernelspec": {
   "display_name": "gemmarte",
   "language": "python",
   "name": "python3"
  },
  "language_info": {
   "codemirror_mode": {
    "name": "ipython",
    "version": 3
   },
   "file_extension": ".py",
   "mimetype": "text/x-python",
   "name": "python",
   "nbconvert_exporter": "python",
   "pygments_lexer": "ipython3",
   "version": "3.11.9"
  }
 },
 "nbformat": 4,
 "nbformat_minor": 2
}
